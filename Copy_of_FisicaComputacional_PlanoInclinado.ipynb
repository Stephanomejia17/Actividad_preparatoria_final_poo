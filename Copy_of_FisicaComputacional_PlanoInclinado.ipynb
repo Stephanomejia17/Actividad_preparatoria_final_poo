{
  "nbformat": 4,
  "nbformat_minor": 0,
  "metadata": {
    "colab": {
      "provenance": [],
      "include_colab_link": true
    },
    "kernelspec": {
      "name": "python3",
      "display_name": "Python 3"
    },
    "language_info": {
      "name": "python"
    },
    "widgets": {
      "application/vnd.jupyter.widget-state+json": {
        "04a41d535f7b4326972cb606ccc4e269": {
          "model_module": "@jupyter-widgets/controls",
          "model_name": "VBoxModel",
          "model_module_version": "1.5.0",
          "state": {
            "_dom_classes": [
              "widget-interact"
            ],
            "_model_module": "@jupyter-widgets/controls",
            "_model_module_version": "1.5.0",
            "_model_name": "VBoxModel",
            "_view_count": null,
            "_view_module": "@jupyter-widgets/controls",
            "_view_module_version": "1.5.0",
            "_view_name": "VBoxView",
            "box_style": "",
            "children": [
              "IPY_MODEL_9b3b3afe539d458aa9eab08d241af8c5",
              "IPY_MODEL_6a302071a0e94e739611b7bde51b7c8d",
              "IPY_MODEL_5078072dfcfa456b8b6e8c7921bbf2da"
            ],
            "layout": "IPY_MODEL_04c2bd3aa45b411eacb51f0590800f1f"
          }
        },
        "9b3b3afe539d458aa9eab08d241af8c5": {
          "model_module": "@jupyter-widgets/controls",
          "model_name": "IntSliderModel",
          "model_module_version": "1.5.0",
          "state": {
            "_dom_classes": [],
            "_model_module": "@jupyter-widgets/controls",
            "_model_module_version": "1.5.0",
            "_model_name": "IntSliderModel",
            "_view_count": null,
            "_view_module": "@jupyter-widgets/controls",
            "_view_module_version": "1.5.0",
            "_view_name": "IntSliderView",
            "continuous_update": false,
            "description": "MarkerOne",
            "description_tooltip": null,
            "disabled": false,
            "layout": "IPY_MODEL_0ca4be09adc14fdf9e82c252cd493e28",
            "max": 26,
            "min": 0,
            "orientation": "horizontal",
            "readout": true,
            "readout_format": "d",
            "step": 1,
            "style": "IPY_MODEL_052e2f6fa7414e7984bc533a5ffeebf1",
            "value": 9
          }
        },
        "6a302071a0e94e739611b7bde51b7c8d": {
          "model_module": "@jupyter-widgets/controls",
          "model_name": "IntSliderModel",
          "model_module_version": "1.5.0",
          "state": {
            "_dom_classes": [],
            "_model_module": "@jupyter-widgets/controls",
            "_model_module_version": "1.5.0",
            "_model_name": "IntSliderModel",
            "_view_count": null,
            "_view_module": "@jupyter-widgets/controls",
            "_view_module_version": "1.5.0",
            "_view_name": "IntSliderView",
            "continuous_update": false,
            "description": "MarkerTwo",
            "description_tooltip": null,
            "disabled": false,
            "layout": "IPY_MODEL_252cad0d9f6340b6973943bec6879a10",
            "max": 26,
            "min": 0,
            "orientation": "horizontal",
            "readout": true,
            "readout_format": "d",
            "step": 1,
            "style": "IPY_MODEL_9d6c2063c7794ac3b99f5a8df93a0034",
            "value": 17
          }
        },
        "5078072dfcfa456b8b6e8c7921bbf2da": {
          "model_module": "@jupyter-widgets/output",
          "model_name": "OutputModel",
          "model_module_version": "1.0.0",
          "state": {
            "_dom_classes": [],
            "_model_module": "@jupyter-widgets/output",
            "_model_module_version": "1.0.0",
            "_model_name": "OutputModel",
            "_view_count": null,
            "_view_module": "@jupyter-widgets/output",
            "_view_module_version": "1.0.0",
            "_view_name": "OutputView",
            "layout": "IPY_MODEL_38a3c61ee6e14120a28d524f98c7352f",
            "msg_id": "",
            "outputs": [
              {
                "output_type": "stream",
                "name": "stdout",
                "text": [
                  "Marker One =  9       Marker Two =  17 \n",
                  "\n",
                  "Time One 1.9042753854992043 s       Time Two =  3.5076683864990628 \n",
                  "\n"
                ]
              }
            ]
          }
        },
        "04c2bd3aa45b411eacb51f0590800f1f": {
          "model_module": "@jupyter-widgets/base",
          "model_name": "LayoutModel",
          "model_module_version": "1.2.0",
          "state": {
            "_model_module": "@jupyter-widgets/base",
            "_model_module_version": "1.2.0",
            "_model_name": "LayoutModel",
            "_view_count": null,
            "_view_module": "@jupyter-widgets/base",
            "_view_module_version": "1.2.0",
            "_view_name": "LayoutView",
            "align_content": null,
            "align_items": null,
            "align_self": null,
            "border": null,
            "bottom": null,
            "display": null,
            "flex": null,
            "flex_flow": null,
            "grid_area": null,
            "grid_auto_columns": null,
            "grid_auto_flow": null,
            "grid_auto_rows": null,
            "grid_column": null,
            "grid_gap": null,
            "grid_row": null,
            "grid_template_areas": null,
            "grid_template_columns": null,
            "grid_template_rows": null,
            "height": null,
            "justify_content": null,
            "justify_items": null,
            "left": null,
            "margin": null,
            "max_height": null,
            "max_width": null,
            "min_height": null,
            "min_width": null,
            "object_fit": null,
            "object_position": null,
            "order": null,
            "overflow": null,
            "overflow_x": null,
            "overflow_y": null,
            "padding": null,
            "right": null,
            "top": null,
            "visibility": null,
            "width": null
          }
        },
        "0ca4be09adc14fdf9e82c252cd493e28": {
          "model_module": "@jupyter-widgets/base",
          "model_name": "LayoutModel",
          "model_module_version": "1.2.0",
          "state": {
            "_model_module": "@jupyter-widgets/base",
            "_model_module_version": "1.2.0",
            "_model_name": "LayoutModel",
            "_view_count": null,
            "_view_module": "@jupyter-widgets/base",
            "_view_module_version": "1.2.0",
            "_view_name": "LayoutView",
            "align_content": null,
            "align_items": null,
            "align_self": null,
            "border": null,
            "bottom": null,
            "display": null,
            "flex": null,
            "flex_flow": null,
            "grid_area": null,
            "grid_auto_columns": null,
            "grid_auto_flow": null,
            "grid_auto_rows": null,
            "grid_column": null,
            "grid_gap": null,
            "grid_row": null,
            "grid_template_areas": null,
            "grid_template_columns": null,
            "grid_template_rows": null,
            "height": null,
            "justify_content": null,
            "justify_items": null,
            "left": null,
            "margin": null,
            "max_height": null,
            "max_width": null,
            "min_height": null,
            "min_width": null,
            "object_fit": null,
            "object_position": null,
            "order": null,
            "overflow": null,
            "overflow_x": null,
            "overflow_y": null,
            "padding": null,
            "right": null,
            "top": null,
            "visibility": null,
            "width": null
          }
        },
        "052e2f6fa7414e7984bc533a5ffeebf1": {
          "model_module": "@jupyter-widgets/controls",
          "model_name": "SliderStyleModel",
          "model_module_version": "1.5.0",
          "state": {
            "_model_module": "@jupyter-widgets/controls",
            "_model_module_version": "1.5.0",
            "_model_name": "SliderStyleModel",
            "_view_count": null,
            "_view_module": "@jupyter-widgets/base",
            "_view_module_version": "1.2.0",
            "_view_name": "StyleView",
            "description_width": "",
            "handle_color": null
          }
        },
        "252cad0d9f6340b6973943bec6879a10": {
          "model_module": "@jupyter-widgets/base",
          "model_name": "LayoutModel",
          "model_module_version": "1.2.0",
          "state": {
            "_model_module": "@jupyter-widgets/base",
            "_model_module_version": "1.2.0",
            "_model_name": "LayoutModel",
            "_view_count": null,
            "_view_module": "@jupyter-widgets/base",
            "_view_module_version": "1.2.0",
            "_view_name": "LayoutView",
            "align_content": null,
            "align_items": null,
            "align_self": null,
            "border": null,
            "bottom": null,
            "display": null,
            "flex": null,
            "flex_flow": null,
            "grid_area": null,
            "grid_auto_columns": null,
            "grid_auto_flow": null,
            "grid_auto_rows": null,
            "grid_column": null,
            "grid_gap": null,
            "grid_row": null,
            "grid_template_areas": null,
            "grid_template_columns": null,
            "grid_template_rows": null,
            "height": null,
            "justify_content": null,
            "justify_items": null,
            "left": null,
            "margin": null,
            "max_height": null,
            "max_width": null,
            "min_height": null,
            "min_width": null,
            "object_fit": null,
            "object_position": null,
            "order": null,
            "overflow": null,
            "overflow_x": null,
            "overflow_y": null,
            "padding": null,
            "right": null,
            "top": null,
            "visibility": null,
            "width": null
          }
        },
        "9d6c2063c7794ac3b99f5a8df93a0034": {
          "model_module": "@jupyter-widgets/controls",
          "model_name": "SliderStyleModel",
          "model_module_version": "1.5.0",
          "state": {
            "_model_module": "@jupyter-widgets/controls",
            "_model_module_version": "1.5.0",
            "_model_name": "SliderStyleModel",
            "_view_count": null,
            "_view_module": "@jupyter-widgets/base",
            "_view_module_version": "1.2.0",
            "_view_name": "StyleView",
            "description_width": "",
            "handle_color": null
          }
        },
        "38a3c61ee6e14120a28d524f98c7352f": {
          "model_module": "@jupyter-widgets/base",
          "model_name": "LayoutModel",
          "model_module_version": "1.2.0",
          "state": {
            "_model_module": "@jupyter-widgets/base",
            "_model_module_version": "1.2.0",
            "_model_name": "LayoutModel",
            "_view_count": null,
            "_view_module": "@jupyter-widgets/base",
            "_view_module_version": "1.2.0",
            "_view_name": "LayoutView",
            "align_content": null,
            "align_items": null,
            "align_self": null,
            "border": null,
            "bottom": null,
            "display": null,
            "flex": null,
            "flex_flow": null,
            "grid_area": null,
            "grid_auto_columns": null,
            "grid_auto_flow": null,
            "grid_auto_rows": null,
            "grid_column": null,
            "grid_gap": null,
            "grid_row": null,
            "grid_template_areas": null,
            "grid_template_columns": null,
            "grid_template_rows": null,
            "height": null,
            "justify_content": null,
            "justify_items": null,
            "left": null,
            "margin": null,
            "max_height": null,
            "max_width": null,
            "min_height": null,
            "min_width": null,
            "object_fit": null,
            "object_position": null,
            "order": null,
            "overflow": null,
            "overflow_x": null,
            "overflow_y": null,
            "padding": null,
            "right": null,
            "top": null,
            "visibility": null,
            "width": null
          }
        }
      }
    }
  },
  "cells": [
    {
      "cell_type": "markdown",
      "metadata": {
        "id": "view-in-github",
        "colab_type": "text"
      },
      "source": [
        "<a href=\"https://colab.research.google.com/github/Stephanomejia17/Actividad_preparatoria_final_poo/blob/master/Copy_of_FisicaComputacional_PlanoInclinado.ipynb\" target=\"_parent\"><img src=\"https://colab.research.google.com/assets/colab-badge.svg\" alt=\"Open In Colab\"/></a>"
      ]
    },
    {
      "cell_type": "markdown",
      "source": [
        "# Movimiento a lo largo de un plano inclinado\n",
        "\n",
        "### Experimento sobre el movimiento en 1D y Análisis de Datos\n",
        "\n",
        "El movimiento de un bloque que se desliza a lo largo de un plano inclinado se puede estudiar como ejemplo de movimiento unidimensional. En este ejemplo queremos estudiar la posición, la velocidad y la aceleración del cuerpo en función del tiempo.\n",
        "![](https://drive.google.com/uc?export=view&id=1ovrJWOPsi6Nnyy6D-EoglKAmIDhwK0qB)\n"
      ],
      "metadata": {
        "id": "rhU_p2LFu9zb"
      }
    },
    {
      "cell_type": "markdown",
      "source": [
        "El bloque que se desliza sobre el plano inclinado puede describirse como un objeto puntual que se mueve en línea recta. La posición del cuerpo se puede individualizar mediante la coordenada $x$, cuyo valor corresponde en este caso a la distancia entre el objeto y un sensor colocado en un extremo de la pista."
      ],
      "metadata": {
        "id": "2uvYndAw0ZIw"
      }
    },
    {
      "cell_type": "markdown",
      "source": [
        "\n",
        "##### 1. Experimento\n",
        "Preparamos una pista inclinada y un objeto que se puede dejar libre para moverse a lo largo del plano inclinado.\n",
        "\n",
        "Intentamos realizar el experimento de manera que las **condiciones** del experimento sean **reproducibles**.\n",
        "\n",
        "Una variable física que caracteriza las condiciones en las que se realiza el experimento es el valor del **ángulo** que forma el plano inclinado con la dirección horizontal.\n",
        "Podemos medir este ángulo si instalamos en el smartphone la App [phyphox](https://phyphox.org/). Entre los menús disponibles, en **Herramientas** elija **Inclinación** (Mida la inclinación de un plano) y presione **reproducir** para iniciar la medición.\n"
      ],
      "metadata": {
        "id": "goI9FkRc0k0C"
      }
    },
    {
      "cell_type": "code",
      "source": [
        "%%html\n",
        "<iframe width=\"480\" height=\"380\" src=\"https://phyphox.org\" frameborder=\"5\" allow=\"accelerometer; autoplay; clipboard-write; encrypted-media; gyroscope; picture-in-picture\" allowfullscreen></iframe>"
      ],
      "metadata": {
        "colab": {
          "base_uri": "https://localhost:8080/",
          "height": 405
        },
        "id": "5YNYLnqR1PnP",
        "outputId": "ab05858c-ff3a-45e2-d1c4-d9812e1efc7d"
      },
      "execution_count": 4,
      "outputs": [
        {
          "output_type": "display_data",
          "data": {
            "text/plain": [
              "<IPython.core.display.HTML object>"
            ],
            "text/html": [
              "<iframe width=\"480\" height=\"380\" src=\"https://phyphox.org\" frameborder=\"5\" allow=\"accelerometer; autoplay; clipboard-write; encrypted-media; gyroscope; picture-in-picture\" allowfullscreen></iframe>\n"
            ]
          },
          "metadata": {}
        }
      ]
    },
    {
      "cell_type": "code",
      "source": [
        "#leer un archivo\n",
        "import pandas as pd\n",
        "\n",
        "df=pd.read_csv('/content/aceleracion.csv',sep=';')\n",
        "df"
      ],
      "metadata": {
        "colab": {
          "base_uri": "https://localhost:8080/",
          "height": 441
        },
        "id": "7Vpk3OT62AIF",
        "outputId": "e566b055-cc6d-488d-ff6a-d316ee31a133"
      },
      "execution_count": 5,
      "outputs": [
        {
          "output_type": "execute_result",
          "data": {
            "text/plain": [
              "     Time (s)  Linear Acceleration x (m/s^2)  Linear Acceleration y (m/s^2)  \\\n",
              "0    0.004277                       0.596719                       0.468393   \n",
              "1    0.014355                       0.586634                       0.416067   \n",
              "2    0.024432                       0.448604                       0.229809   \n",
              "3    0.034510                       0.135464                       0.317652   \n",
              "4    0.044587                      -0.195661                       0.530803   \n",
              "..        ...                            ...                            ...   \n",
              "351  3.541423                      -0.115592                       1.190721   \n",
              "352  3.551500                       0.011016                       1.195366   \n",
              "353  3.561578                       0.099235                       0.939577   \n",
              "354  3.571655                       0.322269                       0.553382   \n",
              "355  3.581732                       0.787232                       0.236789   \n",
              "\n",
              "     Linear Acceleration z (m/s^2)  Absolute acceleration (m/s^2)  \n",
              "0                        -2.051662                       2.187414  \n",
              "1                        -1.830357                       1.966585  \n",
              "2                        -1.620730                       1.697299  \n",
              "3                        -1.601580                       1.638387  \n",
              "4                        -1.543713                       1.644107  \n",
              "..                             ...                            ...  \n",
              "351                      -1.778420                       2.143351  \n",
              "352                      -1.480628                       1.902966  \n",
              "353                      -1.542744                       1.809064  \n",
              "354                      -1.684331                       1.801960  \n",
              "355                      -1.996401                       2.159032  \n",
              "\n",
              "[356 rows x 5 columns]"
            ],
            "text/html": [
              "\n",
              "  <div id=\"df-9558d551-2fa5-4b1a-b678-ea3cca63f277\" class=\"colab-df-container\">\n",
              "    <div>\n",
              "<style scoped>\n",
              "    .dataframe tbody tr th:only-of-type {\n",
              "        vertical-align: middle;\n",
              "    }\n",
              "\n",
              "    .dataframe tbody tr th {\n",
              "        vertical-align: top;\n",
              "    }\n",
              "\n",
              "    .dataframe thead th {\n",
              "        text-align: right;\n",
              "    }\n",
              "</style>\n",
              "<table border=\"1\" class=\"dataframe\">\n",
              "  <thead>\n",
              "    <tr style=\"text-align: right;\">\n",
              "      <th></th>\n",
              "      <th>Time (s)</th>\n",
              "      <th>Linear Acceleration x (m/s^2)</th>\n",
              "      <th>Linear Acceleration y (m/s^2)</th>\n",
              "      <th>Linear Acceleration z (m/s^2)</th>\n",
              "      <th>Absolute acceleration (m/s^2)</th>\n",
              "    </tr>\n",
              "  </thead>\n",
              "  <tbody>\n",
              "    <tr>\n",
              "      <th>0</th>\n",
              "      <td>0.004277</td>\n",
              "      <td>0.596719</td>\n",
              "      <td>0.468393</td>\n",
              "      <td>-2.051662</td>\n",
              "      <td>2.187414</td>\n",
              "    </tr>\n",
              "    <tr>\n",
              "      <th>1</th>\n",
              "      <td>0.014355</td>\n",
              "      <td>0.586634</td>\n",
              "      <td>0.416067</td>\n",
              "      <td>-1.830357</td>\n",
              "      <td>1.966585</td>\n",
              "    </tr>\n",
              "    <tr>\n",
              "      <th>2</th>\n",
              "      <td>0.024432</td>\n",
              "      <td>0.448604</td>\n",
              "      <td>0.229809</td>\n",
              "      <td>-1.620730</td>\n",
              "      <td>1.697299</td>\n",
              "    </tr>\n",
              "    <tr>\n",
              "      <th>3</th>\n",
              "      <td>0.034510</td>\n",
              "      <td>0.135464</td>\n",
              "      <td>0.317652</td>\n",
              "      <td>-1.601580</td>\n",
              "      <td>1.638387</td>\n",
              "    </tr>\n",
              "    <tr>\n",
              "      <th>4</th>\n",
              "      <td>0.044587</td>\n",
              "      <td>-0.195661</td>\n",
              "      <td>0.530803</td>\n",
              "      <td>-1.543713</td>\n",
              "      <td>1.644107</td>\n",
              "    </tr>\n",
              "    <tr>\n",
              "      <th>...</th>\n",
              "      <td>...</td>\n",
              "      <td>...</td>\n",
              "      <td>...</td>\n",
              "      <td>...</td>\n",
              "      <td>...</td>\n",
              "    </tr>\n",
              "    <tr>\n",
              "      <th>351</th>\n",
              "      <td>3.541423</td>\n",
              "      <td>-0.115592</td>\n",
              "      <td>1.190721</td>\n",
              "      <td>-1.778420</td>\n",
              "      <td>2.143351</td>\n",
              "    </tr>\n",
              "    <tr>\n",
              "      <th>352</th>\n",
              "      <td>3.551500</td>\n",
              "      <td>0.011016</td>\n",
              "      <td>1.195366</td>\n",
              "      <td>-1.480628</td>\n",
              "      <td>1.902966</td>\n",
              "    </tr>\n",
              "    <tr>\n",
              "      <th>353</th>\n",
              "      <td>3.561578</td>\n",
              "      <td>0.099235</td>\n",
              "      <td>0.939577</td>\n",
              "      <td>-1.542744</td>\n",
              "      <td>1.809064</td>\n",
              "    </tr>\n",
              "    <tr>\n",
              "      <th>354</th>\n",
              "      <td>3.571655</td>\n",
              "      <td>0.322269</td>\n",
              "      <td>0.553382</td>\n",
              "      <td>-1.684331</td>\n",
              "      <td>1.801960</td>\n",
              "    </tr>\n",
              "    <tr>\n",
              "      <th>355</th>\n",
              "      <td>3.581732</td>\n",
              "      <td>0.787232</td>\n",
              "      <td>0.236789</td>\n",
              "      <td>-1.996401</td>\n",
              "      <td>2.159032</td>\n",
              "    </tr>\n",
              "  </tbody>\n",
              "</table>\n",
              "<p>356 rows × 5 columns</p>\n",
              "</div>\n",
              "    <div class=\"colab-df-buttons\">\n",
              "\n",
              "  <div class=\"colab-df-container\">\n",
              "    <button class=\"colab-df-convert\" onclick=\"convertToInteractive('df-9558d551-2fa5-4b1a-b678-ea3cca63f277')\"\n",
              "            title=\"Convert this dataframe to an interactive table.\"\n",
              "            style=\"display:none;\">\n",
              "\n",
              "  <svg xmlns=\"http://www.w3.org/2000/svg\" height=\"24px\" viewBox=\"0 -960 960 960\">\n",
              "    <path d=\"M120-120v-720h720v720H120Zm60-500h600v-160H180v160Zm220 220h160v-160H400v160Zm0 220h160v-160H400v160ZM180-400h160v-160H180v160Zm440 0h160v-160H620v160ZM180-180h160v-160H180v160Zm440 0h160v-160H620v160Z\"/>\n",
              "  </svg>\n",
              "    </button>\n",
              "\n",
              "  <style>\n",
              "    .colab-df-container {\n",
              "      display:flex;\n",
              "      gap: 12px;\n",
              "    }\n",
              "\n",
              "    .colab-df-convert {\n",
              "      background-color: #E8F0FE;\n",
              "      border: none;\n",
              "      border-radius: 50%;\n",
              "      cursor: pointer;\n",
              "      display: none;\n",
              "      fill: #1967D2;\n",
              "      height: 32px;\n",
              "      padding: 0 0 0 0;\n",
              "      width: 32px;\n",
              "    }\n",
              "\n",
              "    .colab-df-convert:hover {\n",
              "      background-color: #E2EBFA;\n",
              "      box-shadow: 0px 1px 2px rgba(60, 64, 67, 0.3), 0px 1px 3px 1px rgba(60, 64, 67, 0.15);\n",
              "      fill: #174EA6;\n",
              "    }\n",
              "\n",
              "    .colab-df-buttons div {\n",
              "      margin-bottom: 4px;\n",
              "    }\n",
              "\n",
              "    [theme=dark] .colab-df-convert {\n",
              "      background-color: #3B4455;\n",
              "      fill: #D2E3FC;\n",
              "    }\n",
              "\n",
              "    [theme=dark] .colab-df-convert:hover {\n",
              "      background-color: #434B5C;\n",
              "      box-shadow: 0px 1px 3px 1px rgba(0, 0, 0, 0.15);\n",
              "      filter: drop-shadow(0px 1px 2px rgba(0, 0, 0, 0.3));\n",
              "      fill: #FFFFFF;\n",
              "    }\n",
              "  </style>\n",
              "\n",
              "    <script>\n",
              "      const buttonEl =\n",
              "        document.querySelector('#df-9558d551-2fa5-4b1a-b678-ea3cca63f277 button.colab-df-convert');\n",
              "      buttonEl.style.display =\n",
              "        google.colab.kernel.accessAllowed ? 'block' : 'none';\n",
              "\n",
              "      async function convertToInteractive(key) {\n",
              "        const element = document.querySelector('#df-9558d551-2fa5-4b1a-b678-ea3cca63f277');\n",
              "        const dataTable =\n",
              "          await google.colab.kernel.invokeFunction('convertToInteractive',\n",
              "                                                    [key], {});\n",
              "        if (!dataTable) return;\n",
              "\n",
              "        const docLinkHtml = 'Like what you see? Visit the ' +\n",
              "          '<a target=\"_blank\" href=https://colab.research.google.com/notebooks/data_table.ipynb>data table notebook</a>'\n",
              "          + ' to learn more about interactive tables.';\n",
              "        element.innerHTML = '';\n",
              "        dataTable['output_type'] = 'display_data';\n",
              "        await google.colab.output.renderOutput(dataTable, element);\n",
              "        const docLink = document.createElement('div');\n",
              "        docLink.innerHTML = docLinkHtml;\n",
              "        element.appendChild(docLink);\n",
              "      }\n",
              "    </script>\n",
              "  </div>\n",
              "\n",
              "\n",
              "<div id=\"df-dd13a532-ab96-4a78-9a6e-ce901ffbe3eb\">\n",
              "  <button class=\"colab-df-quickchart\" onclick=\"quickchart('df-dd13a532-ab96-4a78-9a6e-ce901ffbe3eb')\"\n",
              "            title=\"Suggest charts\"\n",
              "            style=\"display:none;\">\n",
              "\n",
              "<svg xmlns=\"http://www.w3.org/2000/svg\" height=\"24px\"viewBox=\"0 0 24 24\"\n",
              "     width=\"24px\">\n",
              "    <g>\n",
              "        <path d=\"M19 3H5c-1.1 0-2 .9-2 2v14c0 1.1.9 2 2 2h14c1.1 0 2-.9 2-2V5c0-1.1-.9-2-2-2zM9 17H7v-7h2v7zm4 0h-2V7h2v10zm4 0h-2v-4h2v4z\"/>\n",
              "    </g>\n",
              "</svg>\n",
              "  </button>\n",
              "\n",
              "<style>\n",
              "  .colab-df-quickchart {\n",
              "      --bg-color: #E8F0FE;\n",
              "      --fill-color: #1967D2;\n",
              "      --hover-bg-color: #E2EBFA;\n",
              "      --hover-fill-color: #174EA6;\n",
              "      --disabled-fill-color: #AAA;\n",
              "      --disabled-bg-color: #DDD;\n",
              "  }\n",
              "\n",
              "  [theme=dark] .colab-df-quickchart {\n",
              "      --bg-color: #3B4455;\n",
              "      --fill-color: #D2E3FC;\n",
              "      --hover-bg-color: #434B5C;\n",
              "      --hover-fill-color: #FFFFFF;\n",
              "      --disabled-bg-color: #3B4455;\n",
              "      --disabled-fill-color: #666;\n",
              "  }\n",
              "\n",
              "  .colab-df-quickchart {\n",
              "    background-color: var(--bg-color);\n",
              "    border: none;\n",
              "    border-radius: 50%;\n",
              "    cursor: pointer;\n",
              "    display: none;\n",
              "    fill: var(--fill-color);\n",
              "    height: 32px;\n",
              "    padding: 0;\n",
              "    width: 32px;\n",
              "  }\n",
              "\n",
              "  .colab-df-quickchart:hover {\n",
              "    background-color: var(--hover-bg-color);\n",
              "    box-shadow: 0 1px 2px rgba(60, 64, 67, 0.3), 0 1px 3px 1px rgba(60, 64, 67, 0.15);\n",
              "    fill: var(--button-hover-fill-color);\n",
              "  }\n",
              "\n",
              "  .colab-df-quickchart-complete:disabled,\n",
              "  .colab-df-quickchart-complete:disabled:hover {\n",
              "    background-color: var(--disabled-bg-color);\n",
              "    fill: var(--disabled-fill-color);\n",
              "    box-shadow: none;\n",
              "  }\n",
              "\n",
              "  .colab-df-spinner {\n",
              "    border: 2px solid var(--fill-color);\n",
              "    border-color: transparent;\n",
              "    border-bottom-color: var(--fill-color);\n",
              "    animation:\n",
              "      spin 1s steps(1) infinite;\n",
              "  }\n",
              "\n",
              "  @keyframes spin {\n",
              "    0% {\n",
              "      border-color: transparent;\n",
              "      border-bottom-color: var(--fill-color);\n",
              "      border-left-color: var(--fill-color);\n",
              "    }\n",
              "    20% {\n",
              "      border-color: transparent;\n",
              "      border-left-color: var(--fill-color);\n",
              "      border-top-color: var(--fill-color);\n",
              "    }\n",
              "    30% {\n",
              "      border-color: transparent;\n",
              "      border-left-color: var(--fill-color);\n",
              "      border-top-color: var(--fill-color);\n",
              "      border-right-color: var(--fill-color);\n",
              "    }\n",
              "    40% {\n",
              "      border-color: transparent;\n",
              "      border-right-color: var(--fill-color);\n",
              "      border-top-color: var(--fill-color);\n",
              "    }\n",
              "    60% {\n",
              "      border-color: transparent;\n",
              "      border-right-color: var(--fill-color);\n",
              "    }\n",
              "    80% {\n",
              "      border-color: transparent;\n",
              "      border-right-color: var(--fill-color);\n",
              "      border-bottom-color: var(--fill-color);\n",
              "    }\n",
              "    90% {\n",
              "      border-color: transparent;\n",
              "      border-bottom-color: var(--fill-color);\n",
              "    }\n",
              "  }\n",
              "</style>\n",
              "\n",
              "  <script>\n",
              "    async function quickchart(key) {\n",
              "      const quickchartButtonEl =\n",
              "        document.querySelector('#' + key + ' button');\n",
              "      quickchartButtonEl.disabled = true;  // To prevent multiple clicks.\n",
              "      quickchartButtonEl.classList.add('colab-df-spinner');\n",
              "      try {\n",
              "        const charts = await google.colab.kernel.invokeFunction(\n",
              "            'suggestCharts', [key], {});\n",
              "      } catch (error) {\n",
              "        console.error('Error during call to suggestCharts:', error);\n",
              "      }\n",
              "      quickchartButtonEl.classList.remove('colab-df-spinner');\n",
              "      quickchartButtonEl.classList.add('colab-df-quickchart-complete');\n",
              "    }\n",
              "    (() => {\n",
              "      let quickchartButtonEl =\n",
              "        document.querySelector('#df-dd13a532-ab96-4a78-9a6e-ce901ffbe3eb button');\n",
              "      quickchartButtonEl.style.display =\n",
              "        google.colab.kernel.accessAllowed ? 'block' : 'none';\n",
              "    })();\n",
              "  </script>\n",
              "</div>\n",
              "\n",
              "  <div id=\"id_d14b5e48-51b2-46da-a335-b5b075550295\">\n",
              "    <style>\n",
              "      .colab-df-generate {\n",
              "        background-color: #E8F0FE;\n",
              "        border: none;\n",
              "        border-radius: 50%;\n",
              "        cursor: pointer;\n",
              "        display: none;\n",
              "        fill: #1967D2;\n",
              "        height: 32px;\n",
              "        padding: 0 0 0 0;\n",
              "        width: 32px;\n",
              "      }\n",
              "\n",
              "      .colab-df-generate:hover {\n",
              "        background-color: #E2EBFA;\n",
              "        box-shadow: 0px 1px 2px rgba(60, 64, 67, 0.3), 0px 1px 3px 1px rgba(60, 64, 67, 0.15);\n",
              "        fill: #174EA6;\n",
              "      }\n",
              "\n",
              "      [theme=dark] .colab-df-generate {\n",
              "        background-color: #3B4455;\n",
              "        fill: #D2E3FC;\n",
              "      }\n",
              "\n",
              "      [theme=dark] .colab-df-generate:hover {\n",
              "        background-color: #434B5C;\n",
              "        box-shadow: 0px 1px 3px 1px rgba(0, 0, 0, 0.15);\n",
              "        filter: drop-shadow(0px 1px 2px rgba(0, 0, 0, 0.3));\n",
              "        fill: #FFFFFF;\n",
              "      }\n",
              "    </style>\n",
              "    <button class=\"colab-df-generate\" onclick=\"generateWithVariable('df')\"\n",
              "            title=\"Generate code using this dataframe.\"\n",
              "            style=\"display:none;\">\n",
              "\n",
              "  <svg xmlns=\"http://www.w3.org/2000/svg\" height=\"24px\"viewBox=\"0 0 24 24\"\n",
              "       width=\"24px\">\n",
              "    <path d=\"M7,19H8.4L18.45,9,17,7.55,7,17.6ZM5,21V16.75L18.45,3.32a2,2,0,0,1,2.83,0l1.4,1.43a1.91,1.91,0,0,1,.58,1.4,1.91,1.91,0,0,1-.58,1.4L9.25,21ZM18.45,9,17,7.55Zm-12,3A5.31,5.31,0,0,0,4.9,8.1,5.31,5.31,0,0,0,1,6.5,5.31,5.31,0,0,0,4.9,4.9,5.31,5.31,0,0,0,6.5,1,5.31,5.31,0,0,0,8.1,4.9,5.31,5.31,0,0,0,12,6.5,5.46,5.46,0,0,0,6.5,12Z\"/>\n",
              "  </svg>\n",
              "    </button>\n",
              "    <script>\n",
              "      (() => {\n",
              "      const buttonEl =\n",
              "        document.querySelector('#id_d14b5e48-51b2-46da-a335-b5b075550295 button.colab-df-generate');\n",
              "      buttonEl.style.display =\n",
              "        google.colab.kernel.accessAllowed ? 'block' : 'none';\n",
              "\n",
              "      buttonEl.onclick = () => {\n",
              "        google.colab.notebook.generateWithVariable('df');\n",
              "      }\n",
              "      })();\n",
              "    </script>\n",
              "  </div>\n",
              "\n",
              "    </div>\n",
              "  </div>\n"
            ],
            "application/vnd.google.colaboratory.intrinsic+json": {
              "type": "dataframe",
              "variable_name": "df",
              "summary": "{\n  \"name\": \"df\",\n  \"rows\": 356,\n  \"fields\": [\n    {\n      \"column\": \"Time (s)\",\n      \"properties\": {\n        \"dtype\": \"number\",\n        \"std\": 1.0370852974750278,\n        \"min\": 0.004276916647,\n        \"max\": 3.581732292,\n        \"num_unique_values\": 356,\n        \"samples\": [\n          2.291841042,\n          0.4275289167,\n          2.584084042\n        ],\n        \"semantic_type\": \"\",\n        \"description\": \"\"\n      }\n    },\n    {\n      \"column\": \"Linear Acceleration x (m/s^2)\",\n      \"properties\": {\n        \"dtype\": \"number\",\n        \"std\": 2.963129104412524,\n        \"min\": -10.80570832,\n        \"max\": 4.960752617,\n        \"num_unique_values\": 356,\n        \"samples\": [\n          -2.990284796,\n          1.294303404,\n          0.8223024157\n        ],\n        \"semantic_type\": \"\",\n        \"description\": \"\"\n      }\n    },\n    {\n      \"column\": \"Linear Acceleration y (m/s^2)\",\n      \"properties\": {\n        \"dtype\": \"number\",\n        \"std\": 5.35903546635587,\n        \"min\": -17.55644509,\n        \"max\": 9.559023471,\n        \"num_unique_values\": 355,\n        \"samples\": [\n          -2.526328114,\n          -7.85729602,\n          -9.666930327\n        ],\n        \"semantic_type\": \"\",\n        \"description\": \"\"\n      }\n    },\n    {\n      \"column\": \"Linear Acceleration z (m/s^2)\",\n      \"properties\": {\n        \"dtype\": \"number\",\n        \"std\": 5.431694216079562,\n        \"min\": -12.71944236,\n        \"max\": 15.71547614,\n        \"num_unique_values\": 356,\n        \"samples\": [\n          -11.13702208,\n          2.734632833,\n          -0.1348788929\n        ],\n        \"semantic_type\": \"\",\n        \"description\": \"\"\n      }\n    },\n    {\n      \"column\": \"Absolute acceleration (m/s^2)\",\n      \"properties\": {\n        \"dtype\": \"number\",\n        \"std\": 4.199001952403639,\n        \"min\": 0.3446046011,\n        \"max\": 17.9418282,\n        \"num_unique_values\": 356,\n        \"samples\": [\n          11.80497343,\n          8.41965194,\n          9.702778753\n        ],\n        \"semantic_type\": \"\",\n        \"description\": \"\"\n      }\n    }\n  ]\n}"
            }
          },
          "metadata": {},
          "execution_count": 5
        }
      ]
    },
    {
      "cell_type": "code",
      "source": [
        "import matplotlib.pyplot as plt\n",
        "#plt.plot(x,y)\n",
        "x=df['Time (s)']\n",
        "y=df['Linear Acceleration x (m/s^2)']\n",
        "#plt.scatter(x,y,s=10)\n",
        "plt.plot(df['Time (s)'],df['Linear Acceleration x (m/s^2)'])\n",
        "#plt.xlim(0.9,1)"
      ],
      "metadata": {
        "colab": {
          "base_uri": "https://localhost:8080/",
          "height": 447
        },
        "id": "8G6bHglr3bpI",
        "outputId": "685f38a4-8ec2-4f58-cd44-bf86ed02eec8"
      },
      "execution_count": 6,
      "outputs": [
        {
          "output_type": "execute_result",
          "data": {
            "text/plain": [
              "[<matplotlib.lines.Line2D at 0x7c8f13334550>]"
            ]
          },
          "metadata": {},
          "execution_count": 6
        },
        {
          "output_type": "display_data",
          "data": {
            "text/plain": [
              "<Figure size 640x480 with 1 Axes>"
            ],
            "image/png": "[encoded data removed]"
          },
          "metadata": {}
        }
      ]
    },
    {
      "cell_type": "markdown",
      "source": [
        "##### 2. Representación gráfica de los datos.\n",
        "Con el siguiente código leemos los datos contenidos en el archivo **distance-table.csv** y trazamos una gráfica de la distancia sensor-objeto en función del tiempo transcurrido desde un instante inicial dado.\n",
        "&nbsp;"
      ],
      "metadata": {
        "id": "8tND69Ph6jc0"
      }
    },
    {
      "cell_type": "code",
      "source": [
        "import numpy as np\n",
        "import matplotlib.pyplot as plt\n",
        "inputDataFile='distance-table.csv'\n",
        "# read data from file\n",
        "t, x = np.loadtxt(inputDataFile, delimiter =',', unpack = True)\n",
        "# plot of the experimental data\n",
        "plt.plot(t, x, 'o', color='blue', markersize = 5)\n",
        "plt.axhline(color = 'green', zorder = -1)\n",
        "plt.axvline(color = 'gray', zorder = -1)\n",
        "plt.xlabel('time  $t$ (s)')\n",
        "plt.ylabel('$x$ (m)')\n",
        "\n",
        "print()\n",
        "plt.show()\n",
        "print()"
      ],
      "metadata": {
        "colab": {
          "base_uri": "https://localhost:8080/",
          "height": 486
        },
        "id": "q8_Qepoj6QL5",
        "outputId": "532b63da-7309-4a40-8c06-b841857f7fe9"
      },
      "execution_count": 7,
      "outputs": [
        {
          "output_type": "stream",
          "name": "stdout",
          "text": [
            "\n"
          ]
        },
        {
          "output_type": "display_data",
          "data": {
            "text/plain": [
              "<Figure size 640x480 with 1 Axes>"
            ],
            "image/png": "[encoded data removed]"
          },
          "metadata": {}
        },
        {
          "output_type": "stream",
          "name": "stdout",
          "text": [
            "\n"
          ]
        }
      ]
    },
    {
      "cell_type": "markdown",
      "source": [
        "\n",
        "##### 3. Velocidad Cálculo de Velocidad\n",
        "Para calcular la velocidad consideramos los desplazamientos $\\Delta x$ y la duración de los lapsos de tiempo $\\Delta t$ entre dos mediciones posteriores. La velocidad promedio correspondiente a cada intervalo de tiempo se calcula como\n",
        "\n",
        "$$ v = \\dfrac{\\Delta x}{\\Delta t} $$\n",
        "\n",
        "Asociamos dicho valor de velocidad promedio con el tiempo $t'$ obtenido como tiempo promedio en el intervalo $\\Delta t$ considerado. Los valores calculados se guardan en el archivo **Incline-Speed.csv**\n",
        "\n",
        "&nbsp;"
      ],
      "metadata": {
        "id": "HHg4MoEF6u6y"
      }
    },
    {
      "cell_type": "code",
      "source": [
        "# Nombre del archivo donde voy a grabar las velocidades\n",
        "speedDataFile='/content/Incline-Speed.csv'\n",
        "\n",
        "np.set_printoptions(precision=20)\n",
        "# Calcula las diferencias entre puntos consecutivos\n",
        "delta_t = np.diff(t)\n",
        "delta_x = np.diff(x)\n",
        "# Calculamos la velocidad\n",
        "v = delta_x / delta_t\n",
        "# t_prime le asigno un tiempo a esas velocidades como la mitad del intervalo\n",
        "t_prime = t[:-1] + (delta_t/2)\n",
        "\n",
        "# Guarda el archivo\n",
        "np.savetxt(speedDataFile, np.column_stack((t_prime, v)))"
      ],
      "metadata": {
        "id": "lRgkeM0r69lm"
      },
      "execution_count": 21,
      "outputs": []
    },
    {
      "cell_type": "markdown",
      "source": [
        "##### 4. Gráfica de la velocidad en función del tiempo.\n",
        "En una de las *celdas de código* anteriores de este Jupyter Notebook ya hemos *importado* el módulo **matplotlib**, por lo tanto, en las siguientes líneas de código podemos usar la función **plt.plot()** y otras funciones del módulo matplotlib para construir una gráfica de la velocidad en función del tiempo.\n",
        "\n",
        "&nbsp;"
      ],
      "metadata": {
        "id": "MNH5Yadm7Hgg"
      }
    },
    {
      "cell_type": "code",
      "source": [
        "plt.plot(t_prime, v, 'o', color='red', markersize = 5)\n",
        "plt.axhline(color = 'gray', zorder = -1)\n",
        "plt.axvline(color = 'gray', zorder = -1)\n",
        "plt.xlabel('time $t$ (s)')\n",
        "plt.ylabel('velocity $v$ (m s$^{-1}$)')\n",
        "plt.draw()\n",
        "plt.show()#rename columns\n"
      ],
      "metadata": {
        "colab": {
          "base_uri": "https://localhost:8080/",
          "height": 451
        },
        "id": "Ord-stWl3PpB",
        "outputId": "8cdaa8c8-5ff6-41e3-e570-4e7d8921ff20"
      },
      "execution_count": 9,
      "outputs": [
        {
          "output_type": "display_data",
          "data": {
            "text/plain": [
              "<Figure size 640x480 with 1 Axes>"
            ],
            "image/png": "[encoded data removed]"
          },
          "metadata": {}
        }
      ]
    },
    {
      "cell_type": "markdown",
      "source": [
        "##### 5. Calcular la aceleración\n",
        "En este ejemplo, la aceleración del objeto que se mueve a lo largo del plano inclinado se calcula como la aceleración promedio correspondiente al intervalo de tiempo $\\Delta t'$.\n",
        "\n",
        "$$ a = \\dfrac{\\Delta v}{\\Delta t'} $$\n",
        "\n",
        "Asociamos cada valor de aceleración a un valor de tiempo que es el valor promedio del intervalo de tiempo correspondiente $\\Delta t'$. Los datos se guardan en el archivo **Incline-Acceleration.csv**.\n",
        "\n",
        "&nbsp;\n"
      ],
      "metadata": {
        "id": "SREn786v7Tg0"
      }
    },
    {
      "cell_type": "code",
      "execution_count": 25,
      "metadata": {
        "id": "k4qFd80xu898"
      },
      "outputs": [],
      "source": [
        "accelerationDataFile='/content/Incline-Acceleration.csv'\n",
        "\n",
        "np.set_printoptions(precision=20)\n",
        "delta_t_prime = np.diff(t_prime)\n",
        "delta_v = np.diff(v)\n",
        "a = delta_v / delta_t_prime\n",
        "t_double_prime = t_prime[:-1] + (delta_t_prime/2)\n",
        "\n",
        "np.savetxt(accelerationDataFile, np.column_stack((t_double_prime, a)))"
      ]
    },
    {
      "cell_type": "markdown",
      "source": [
        "&nbsp;\n",
        "\n",
        "Los valores obtenidos con este método se reportan en un gráfico.\n",
        "\n",
        "&nbsp;"
      ],
      "metadata": {
        "id": "xApAb6aP7dpr"
      }
    },
    {
      "cell_type": "code",
      "source": [
        "print()\n",
        "#\n",
        "\n",
        "plt.plot(t_double_prime, a, 'o', color='green', markersize = 6, label = 'calculated')\n",
        "plt.axhline(color = 'gray', zorder = -1)\n",
        "plt.axvline(color = 'gray', zorder = -1)\n",
        "plt.xlabel('time $t$ (s)')\n",
        "plt.ylabel('acceleration $a$ (m/s$^{2}$)')\n",
        "#plt.ylim(-1.5,1.5)\n",
        "plt.legend(loc='lower left', shadow=True, fontsize='large')\n",
        "plt.draw()\n",
        "plt.show()"
      ],
      "metadata": {
        "colab": {
          "base_uri": "https://localhost:8080/",
          "height": 468
        },
        "id": "DtoL0FmV7YmL",
        "outputId": "da92208c-d562-4fb3-8f62-0f128fb177d1"
      },
      "execution_count": 26,
      "outputs": [
        {
          "output_type": "stream",
          "name": "stdout",
          "text": [
            "\n"
          ]
        },
        {
          "output_type": "display_data",
          "data": {
            "text/plain": [
              "<Figure size 640x480 with 1 Axes>"
            ],
            "image/png": "[encoded data removed]"
          },
          "metadata": {}
        }
      ]
    },
    {
      "cell_type": "code",
      "source": [],
      "metadata": {
        "id": "kmd5u7Fq7jx3"
      },
      "execution_count": 11,
      "outputs": []
    },
    {
      "cell_type": "markdown",
      "source": [
        "> Podemos observar que también se obtienen valores negativos de la aceleración.\n",
        "> Estos valores corresponden al intervalo de tiempo en el que el objeto, después de haber recorrido la pista inclinada, es frenado intencionalmente contra un obstáculo blando.\n",
        "\n",
        "\n",
        "##### 6. Análisis de datos sobre velocidad.\n",
        "\n",
        "***6.1. Seleccionar un subconjunto de datos***\n",
        "\n",
        "El número de pares (tiempo $t'$, velocidad $v$) viene dado por la dimensión de la matriz numpy correspondiente.\n"
      ],
      "metadata": {
        "id": "DY0gDLCn7oui"
      }
    },
    {
      "cell_type": "code",
      "source": [
        "np.size(t_prime)"
      ],
      "metadata": {
        "colab": {
          "base_uri": "https://localhost:8080/"
        },
        "id": "IUFmmda37pMv",
        "outputId": "5ac1acfa-828d-4c1c-a4c9-f7718f2ecfb8"
      },
      "execution_count": 12,
      "outputs": [
        {
          "output_type": "execute_result",
          "data": {
            "text/plain": [
              "27"
            ]
          },
          "metadata": {},
          "execution_count": 12
        }
      ]
    },
    {
      "cell_type": "markdown",
      "source": [
        "Queremos centrar el análisis en un rango temporal elegido. Para ello definimos dos **marcadores**, correspondiendo cada uno de ellos al valor del índice numérico que identifica el dato considerado."
      ],
      "metadata": {
        "id": "-1VwYJ8X8To3"
      }
    },
    {
      "cell_type": "code",
      "source": [
        "import ipywidgets as widgets\n",
        "\n",
        "print()\n",
        "print('Valores: 9, 17')\n",
        "\n",
        "sliderMarkerOne = widgets.IntSlider(min = 0, max = (np.size(t_prime)-1), step = 1, value = 9, continuous_update = False)\n",
        "sliderMarkerTwo = widgets.IntSlider(min = 0, max = (np.size(t_prime)-1), step = 1, value = 17, continuous_update = False)\n",
        "\n",
        "def calculate(MarkerOne, MarkerTwo):\n",
        "        print('Marker One = ',MarkerOne, '      Marker Two = ', MarkerTwo, '\\n')\n",
        "        MarkerOneTime = t_prime[MarkerOne]\n",
        "        MarkerTwoTime = t_prime[MarkerTwo]\n",
        "        print ('Time One', MarkerOneTime, 's', '      Time Two = ', MarkerTwoTime, '\\n')\n",
        "        makeplots(MarkerOne,MarkerTwo)\n",
        "        t_subset = t_prime[MarkerOne:MarkerTwo]\n",
        "        v_subset = v[MarkerOne:MarkerTwo]\n",
        "\n",
        "def makeplots(MarkerOne, MarkerTwo):\n",
        "    fig = plt.figure(figsize=(7, 9))\n",
        "   # plt.ion()\n",
        "    plt.subplot(2, 1, 1)\n",
        "    plt.plot(t_prime, v, 'o', color='red', markersize = 5)\n",
        "    plt.plot(t_prime[MarkerOne],v[MarkerOne], 'o', color='magenta', markersize = 8, zorder = -1)\n",
        "    plt.plot(t_prime[MarkerTwo],v[MarkerTwo], 'o', color='cyan', markersize = 10, zorder = -1)\n",
        "    plt.axhline(color = 'gray', zorder = -1)\n",
        "    plt.axvline(color = 'gray', zorder = -1)\n",
        "    plt.axvline(color = 'magenta', x = t_prime[MarkerOne], zorder = -1)\n",
        "    plt.axvline(color = 'cyan', x = t_prime[MarkerTwo], zorder = -1)\n",
        "    plt.xlabel('time  $t$ (s)')\n",
        "    plt.ylabel('velocity $v$ (m/s)')\n",
        "    #plt.text(27, 1.8, inputDataFile)\n",
        "\n",
        "\n",
        "    plt.subplot(2, 1, 2)\n",
        "    plt.plot(t_double_prime, a, 'o', color='green', markersize = 5)\n",
        "    plt.axhline(color = 'gray', zorder = -1)\n",
        "    plt.axvline(color = 'gray', zorder = -1)\n",
        "    plt.axvline(color = 'magenta', x = t_prime[MarkerOne], zorder = -1)\n",
        "    plt.axvline(color = 'cyan', x = t_prime[MarkerTwo], zorder = -1)\n",
        "    plt.xlabel('time $t$ (s)')\n",
        "    plt.ylabel('acceleration $a$ (m/s$^{2}$)')\n",
        "   #plt.text(20, 0.2, speedDataFile)\n",
        "\n",
        "widgets.interact(calculate, MarkerOne = sliderMarkerOne, MarkerTwo = sliderMarkerTwo)"
      ],
      "metadata": {
        "colab": {
          "base_uri": "https://localhost:8080/",
          "height": 1000,
          "referenced_widgets": [
            "04a41d535f7b4326972cb606ccc4e269",
            "9b3b3afe539d458aa9eab08d241af8c5",
            "6a302071a0e94e739611b7bde51b7c8d",
            "5078072dfcfa456b8b6e8c7921bbf2da",
            "04c2bd3aa45b411eacb51f0590800f1f",
            "0ca4be09adc14fdf9e82c252cd493e28",
            "052e2f6fa7414e7984bc533a5ffeebf1",
            "252cad0d9f6340b6973943bec6879a10",
            "9d6c2063c7794ac3b99f5a8df93a0034",
            "38a3c61ee6e14120a28d524f98c7352f"
          ]
        },
        "id": "WMcwMmhm8Inb",
        "outputId": "f08b5b37-3914-434c-897f-b8605e8b07ee"
      },
      "execution_count": 27,
      "outputs": [
        {
          "output_type": "stream",
          "name": "stdout",
          "text": [
            "\n",
            "Valores: 9, 17\n"
          ]
        },
        {
          "output_type": "display_data",
          "data": {
            "text/plain": [
              "interactive(children=(IntSlider(value=9, continuous_update=False, description='MarkerOne', max=26), IntSlider(…"
            ],
            "application/vnd.jupyter.widget-view+json": {
              "version_major": 2,
              "version_minor": 0,
              "model_id": "04a41d535f7b4326972cb606ccc4e269"
            }
          },
          "metadata": {}
        },
        {
          "output_type": "execute_result",
          "data": {
            "text/plain": [
              "<function __main__.calculate(MarkerOne, MarkerTwo)>"
            ],
            "text/html": [
              "<div style=\"max-width:800px; border: 1px solid var(--colab-border-color);\"><style>\n",
              "      pre.function-repr-contents {\n",
              "        overflow-x: auto;\n",
              "        padding: 8px 12px;\n",
              "        max-height: 500px;\n",
              "      }\n",
              "\n",
              "      pre.function-repr-contents.function-repr-contents-collapsed {\n",
              "        cursor: pointer;\n",
              "        max-height: 100px;\n",
              "      }\n",
              "    </style>\n",
              "    <pre style=\"white-space: initial; background:\n",
              "         var(--colab-secondary-surface-color); padding: 8px 12px;\n",
              "         border-bottom: 1px solid var(--colab-border-color);\"><b>calculate</b><br/>def calculate(MarkerOne, MarkerTwo)</pre><pre class=\"function-repr-contents function-repr-contents-collapsed\" style=\"\"><a class=\"filepath\" style=\"display:none\" href=\"#\">/content/&lt;ipython-input-27-9227c5f1a117&gt;</a>&lt;no docstring&gt;</pre></div>"
            ]
          },
          "metadata": {},
          "execution_count": 27
        },
        {
          "output_type": "display_data",
          "data": {
            "text/plain": [
              "<Figure size 700x900 with 2 Axes>"
            ],
            "image/png": "[encoded data removed]"
          },
          "metadata": {}
        }
      ]
    },
    {
      "cell_type": "markdown",
      "source": [
        "&nbsp;\n",
        "\n",
        "***6.2 Ajuste lineal de los datos de velocidad***\n",
        "\n",
        "En una determinada región del gráfico de velocidad, el comportamiento de la velocidad en función del tiempo es lineal. Los valores de la velocidad obedecen a una ecuación de este tipo:\n",
        "\n",
        "$$ v - v_0 = a (t- t_0) $$\n",
        "\n",
        "Considerando que la velocidad inicial es cero, tenemos\n",
        "\n",
        "$$ v = a (t- t_0) $$\n",
        "\n",
        "y, equivalentemente,\n",
        "\n",
        "$$ v = a t - a t_0 $$\n",
        "\n",
        "La gráfica de la velocidad $v$ en función de $t$ se puede describir correspondiente a la ecuación de una recta, que en un plano cartesiano Oxy es\n",
        "\n",
        "$$ y = A x + B $$\n",
        "\n",
        "En el siguiente código Python definimos una función que permite calcular los parámetros $A$ y $B$ que proporcionan el mejor ajuste entre un conjunto de datos y una línea recta. che forniscono il miglior Accordo fra un insieme di dati e una retta. Aplicamos el algoritmo al conjunto de datos de velocidad correspondientes al rango de tiempo seleccionado y obtenemos\n",
        "\n",
        "* el valor del parámetro A\n",
        "     * que da una estimación de la **aceleración** $a$ en el intervalo de tiempo considerado\n",
        "    \n",
        "* el valor del parámetro B\n",
        "     * del cual podemos obtener el valor de $t_0$, siendo\n",
        "$$ t_0 = - \\dfrac{B}{A} $$\n",
        "\n",
        "&nbsp;"
      ],
      "metadata": {
        "id": "lcVpVXJM8oLZ"
      }
    },
    {
      "cell_type": "code",
      "source": [
        "t_prime_subset = t_prime[sliderMarkerOne.value:sliderMarkerTwo.value]\n",
        "v_subset = v[sliderMarkerOne.value:sliderMarkerTwo.value]\n",
        "\n",
        "def LineFit(x,y):\n",
        "    x_avg = x.mean()\n",
        "    slope =  (y*(x-x_avg)).sum()/(x*(x-x_avg)).sum()\n",
        "    y_intercept = y.mean() - slope * x_avg\n",
        "    return slope, y_intercept\n",
        "\n",
        "a_est, v_intercept = LineFit(t_prime_subset, v_subset)\n",
        "\n",
        "\n",
        "print('\\n Estimated value of the acceleration (from the linear fit)')\n",
        "print('\\n a = {0:0.4} m/s^2 \\n'.format(a_est))\n",
        "#print('v_intercept', v_intercept, 'm/s', '\\n')\n",
        "t0 = -v_intercept/a_est\n",
        "print(' t0 = {0:0.4} s \\n'.format(t0))\n"
      ],
      "metadata": {
        "colab": {
          "base_uri": "https://localhost:8080/"
        },
        "id": "GcLjSGLP8XFC",
        "outputId": "c59f30b6-db01-4da7-ee44-be94e6b481ed"
      },
      "execution_count": 14,
      "outputs": [
        {
          "output_type": "stream",
          "name": "stdout",
          "text": [
            "\n",
            " Estimated value of the acceleration (from the linear fit)\n",
            "\n",
            " a = 1.295 m/s^2 \n",
            "\n",
            " t0 = 1.829 s \n",
            "\n"
          ]
        }
      ]
    },
    {
      "cell_type": "markdown",
      "source": [
        "##### 7. Resumiendo los resultados en una figura: coordenada x, velocidad, aceleración\n",
        "\n",
        "Queremos resumir los resultados obtenidos en una sola figura. Los gráficos están organizados como una matriz con tres filas y una columna.\n",
        "\n",
        "&nbsp;\n"
      ],
      "metadata": {
        "id": "RyaEH9XP9FTK"
      }
    },
    {
      "cell_type": "code",
      "source": [
        "print()\n",
        "\n",
        "\n",
        "v_fit = a_est * t_prime_subset + v_intercept\n",
        "\n",
        "\n",
        "a_fit = v_fit/v_fit*a_est\n",
        "\n",
        "\n",
        "x_fit = 0.5 *a_est * ( t_prime_subset - t0)**2 + 0.029\n",
        "\n",
        "\n",
        "fig = plt.figure(figsize=(7, 13))\n",
        "   # plt.ion()\n",
        "plt.subplot(3, 1, 1)\n",
        "plt.plot(t, x, 'o', color='blue', markersize = 5, label = 'data')\n",
        "plt.plot(t_prime_subset,x_fit, '-', color='yellow', linewidth = 3, zorder = -1, label = 'fit')\n",
        "plt.axhline(color = 'gray', zorder = -1)\n",
        "plt.axvline(color = 'gray', zorder = -1)\n",
        "plt.axvline(color = 'magenta', x = t_prime_subset[0], linewidth = 1, linestyle = '--', zorder = -1)\n",
        "plt.axvline(color = 'cyan', x = t_prime_subset[-1],linewidth = 1, linestyle = '--', zorder = -1)\n",
        "plt.xlabel('time  $t$ (s)')\n",
        "plt.ylabel(' $x$ (m)')\n",
        "#plt.text(27, 1.8, inputDataFile)\n",
        "plt.legend(loc='upper left', shadow=True, fontsize='large')\n",
        "\n",
        "\n",
        "plt.subplot(3, 1, 2)\n",
        "plt.plot(t_prime, v, 'o', color='red', markersize = 5)\n",
        "plt.plot(t_prime_subset,v_fit,'-', color = 'orange', linewidth = 3)\n",
        "plt.axhline(color = 'gray', zorder = -1)\n",
        "plt.axvline(color = 'gray', zorder = -1)\n",
        "plt.axvline(color = 'magenta', x = t_prime_subset[0], linewidth = 1, linestyle = '--', zorder = -1)\n",
        "plt.axvline(color = 'cyan', x = t_prime_subset[-1], linewidth = 1, linestyle = '--', zorder = -1)\n",
        "plt.xlabel('time $t$ (s)')\n",
        "plt.ylabel('velocity $v$ (m/s)')\n",
        "#plt.text(20, 0.2, speedDataFile)\n",
        "\n",
        "plt.subplot(3, 1, 3)\n",
        "plt.plot(t_double_prime, a, 'o', color='green', markersize = 6, label = 'calculated')\n",
        "plt.plot(t_prime_subset,a_fit, color = 'black', markersize = 3, label = 'fit')\n",
        "plt.axhline(color = 'gray', zorder = -1)\n",
        "plt.axvline(color = 'gray', zorder = -1)\n",
        "plt.xlabel('time $t$ (s)')\n",
        "plt.ylabel('acceleration $a$ (m/s$^{2}$)')\n",
        "#plt.ylim(-1.5,1.5)\n",
        "plt.legend(loc='lower left', shadow=True, fontsize='large')\n",
        "#plt.text(10, -1, accelerometerDataFile)\n",
        "\n",
        "plt.savefig('Incline-Results.pdf')\n",
        "\n",
        "plt.draw()\n",
        "plt.show()\n",
        "print()"
      ],
      "metadata": {
        "colab": {
          "base_uri": "https://localhost:8080/",
          "height": 1000
        },
        "id": "4gCP_n-c8vyC",
        "outputId": "121b7b82-cf3f-45d0-8017-de1b32bdf79d"
      },
      "execution_count": 15,
      "outputs": [
        {
          "output_type": "stream",
          "name": "stdout",
          "text": [
            "\n"
          ]
        },
        {
          "output_type": "display_data",
          "data": {
            "text/plain": [
              "<Figure size 700x1300 with 3 Axes>"
            ],
            "image/png": "[encoded data removed]"
          },
          "metadata": {}
        },
        {
          "output_type": "stream",
          "name": "stdout",
          "text": [
            "\n"
          ]
        }
      ]
    },
    {
      "cell_type": "markdown",
      "source": [
        "* Los valores de la velocidad se muestran en el gráfico junto con la línea recta que mejor se aproxima a los datos experimentales en el intervalo de tiempo seleccionado. (**Trama 2/3**)\n",
        "\n",
        "* La pendiente de esa línea recta da una estimación de la aceleración. Este valor constante de aceleración se muestra como una línea horizontal en **Gráfico 3/3** junto con todos los valores calculados de la aceleración en función del tiempo.\n",
        "\n",
        "* Los valores experimentales de $x$ en función del tiempo se muestran en **Gráfico 1/3** junto con los valores calculados mediante la ecuación\n",
        "$$ x = x_0 + \\dfrac{1}{2} a (t - t_0)^2 $$\n",
        "     * con los valores de $a$ y $t_0$ obtenidos del ajuste lineal de los datos de velocidad\n",
        "     * y con el valor de $x_0$ que proporciona el mejor ajuste de la curva (parábola) a los valores experimentales de $x$ vs. $t$.\n",
        "    \n",
        "&nbsp;"
      ],
      "metadata": {
        "id": "N-UNE71pC9gM"
      }
    },
    {
      "cell_type": "markdown",
      "source": [
        "##### 8. Comparación con las predicciones de un modelo\n",
        "Si modelamos el sistema como un cuerpo puntual que se mueve **sin fricción** a lo largo del plano inclinado bajo la acción de la fuerza gravitacional, una vez conocido el ángulo de inclinación $\\theta$, esperamos que el movimiento ocurra con * *aceleración constante** igual a\n",
        "\n",
        "$$ g \\sin(\\theta) $$\n",
        "\n",
        "donde $g$ es la aceleración de la gravedad.\n",
        "\n",
        "En este caso,\n",
        "*consideramos la medida del ángulo $\\theta$ obtenida usando la App **phyphox**.\n",
        "* convertimos el valor en **radianes**\n",
        "* calculamos el **valor esperado** de la aceleración según el modelo\n",
        "\n",
        "&nbsp;"
      ],
      "metadata": {
        "id": "clE2FfTmDFvW"
      }
    },
    {
      "cell_type": "code",
      "source": [
        "theta_deg = 11\n",
        "theta_rad = theta_deg / 180 * np.pi\n",
        "print('\\nInclination\\n\\n theta = {0:0.6} rad\\n'.format(theta_rad))"
      ],
      "metadata": {
        "colab": {
          "base_uri": "https://localhost:8080/"
        },
        "id": "4jV7IQpG9LXE",
        "outputId": "9b3468ab-e77a-445d-a57c-e11c8ad6a64a"
      },
      "execution_count": 16,
      "outputs": [
        {
          "output_type": "stream",
          "name": "stdout",
          "text": [
            "\n",
            "Inclination\n",
            "\n",
            " theta = 0.191986 rad\n",
            "\n"
          ]
        }
      ]
    },
    {
      "cell_type": "code",
      "source": [
        "np.sin(theta_rad)"
      ],
      "metadata": {
        "colab": {
          "base_uri": "https://localhost:8080/"
        },
        "id": "6POD2GblDMEt",
        "outputId": "a0ffc188-32fb-4a60-f60d-448da1c9d34f"
      },
      "execution_count": 17,
      "outputs": [
        {
          "output_type": "execute_result",
          "data": {
            "text/plain": [
              "0.1908089953765448"
            ]
          },
          "metadata": {},
          "execution_count": 17
        }
      ]
    },
    {
      "cell_type": "code",
      "source": [
        "a_model = 9.8 * np.sin(theta_rad)\n",
        "\n",
        "print()\n",
        "print('Valor esperado de la aceleracion (para un plano inclinado sin friccion)\\n')\n",
        "print('a_model = {0:0.3f} m/s^2 \\n'.format(a_model))\n",
        "\n",
        "print()\n",
        "print('Valor obtneido experimentalmente\\n')\n",
        "print('a_est =  {0:0.3f} m/s^2 \\n'.format(a_est))\n",
        "print()\n",
        "relative_error = (a_model-a_est)/a_model\n",
        "print('Error Realtivo  = {0:0.1f} %'.format(relative_error*100) )"
      ],
      "metadata": {
        "colab": {
          "base_uri": "https://localhost:8080/"
        },
        "id": "vXPSAZ_pDQ6x",
        "outputId": "ff13d02b-4f68-40a0-c70f-cf994e23be79"
      },
      "execution_count": 18,
      "outputs": [
        {
          "output_type": "stream",
          "name": "stdout",
          "text": [
            "\n",
            "Valor esperado de la aceleracion (para un plano inclinado sin friccion)\n",
            "\n",
            "a_model = 1.870 m/s^2 \n",
            "\n",
            "\n",
            "Valor obtneido experimentalmente\n",
            "\n",
            "a_est =  1.295 m/s^2 \n",
            "\n",
            "\n",
            "Error Realtivo  = 30.7 %\n"
          ]
        }
      ]
    },
    {
      "cell_type": "code",
      "source": [],
      "metadata": {
        "id": "9w5pqVUcDTf6"
      },
      "execution_count": 18,
      "outputs": []
    }
  ]
}